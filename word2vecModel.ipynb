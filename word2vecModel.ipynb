{
 "cells": [
  {
   "cell_type": "code",
   "execution_count": 36,
   "metadata": {},
   "outputs": [],
   "source": [
    "import os\n",
    "import io\n",
    "\n",
    "import numpy as np\n",
    "import pandas as pd\n",
    "\n",
    "from gensim.models import Word2Vec\n",
    "\n",
    "from chatterbot import ChatBot\n",
    "from chatterbot.trainers import ListTrainer\n",
    "\n",
    "import nltk\n",
    "from nltk.corpus import stopwords\n",
    "stop_words = set(stopwords.words('english'))\n",
    "\n",
    "import tensorflow as tf\n",
    "from tensorflow.train import Checkpoint\n",
    "\n",
    "from tensorboard.plugins import projector"
   ]
  },
  {
   "cell_type": "code",
   "execution_count": null,
   "metadata": {},
   "outputs": [],
   "source": []
  },
  {
   "cell_type": "markdown",
   "metadata": {},
   "source": [
    "### Training hobby model to identify hobby from chatbot conversation"
   ]
  },
  {
   "cell_type": "code",
   "execution_count": null,
   "metadata": {},
   "outputs": [],
   "source": [
    "hobbyData = pd.read_csv('hobbies.csv')"
   ]
  },
  {
   "cell_type": "code",
   "execution_count": null,
   "metadata": {},
   "outputs": [],
   "source": [
    "hobbies = [str(hobby).lower().split() for hobby in hobbyData['HOBBIES']]"
   ]
  },
  {
   "cell_type": "code",
   "execution_count": null,
   "metadata": {},
   "outputs": [],
   "source": [
    "hobbies = [[h for h in hobby if h not in stop_words] for hobby in hobbies]"
   ]
  },
  {
   "cell_type": "code",
   "execution_count": null,
   "metadata": {},
   "outputs": [],
   "source": [
    "hobbyModel = Word2Vec(hobbies, min_count=1, size=100)"
   ]
  },
  {
   "cell_type": "code",
   "execution_count": null,
   "metadata": {},
   "outputs": [],
   "source": [
    "hobbyModel.save('hobby.w2v')"
   ]
  },
  {
   "cell_type": "code",
   "execution_count": 14,
   "metadata": {},
   "outputs": [],
   "source": [
    "hobbyModel = Word2Vec.load('hobby.w2v')"
   ]
  },
  {
   "cell_type": "markdown",
   "metadata": {},
   "source": [
    "### Visualizing HobbyModel"
   ]
  },
  {
   "cell_type": "code",
   "execution_count": 48,
   "metadata": {},
   "outputs": [],
   "source": [
    "embeddings = {}\n",
    "\n",
    "for word in hobbyModel.wv.vocab:\n",
    "    embeddings[word] = hobbyModel.wv[word]"
   ]
  },
  {
   "cell_type": "code",
   "execution_count": 49,
   "metadata": {},
   "outputs": [],
   "source": [
    "embeddings_vectors = np.stack(list(embeddings.values()))"
   ]
  },
  {
   "cell_type": "code",
   "execution_count": 50,
   "metadata": {},
   "outputs": [
    {
     "name": "stdout",
     "output_type": "stream",
     "text": [
      "Model saved in path: hobby_logs/hobby.ckpt\n"
     ]
    }
   ],
   "source": [
    "# https://www.javaer101.com/en/article/985198.html\n",
    "\n",
    "tf.compat.v1.disable_eager_execution()\n",
    "\n",
    "# Create some variables.\n",
    "emb = tf.Variable(embeddings_vectors, name='hobby_embeddings')\n",
    "\n",
    "# Add an op to initialize the variable.\n",
    "init_op = tf.compat.v1.global_variables_initializer()\n",
    "\n",
    "# Add ops to save and restore all the variables.\n",
    "saver = tf.compat.v1.train.Saver()\n",
    "\n",
    "# Later, launch the model, initialize the variables and save the\n",
    "# variables to disk.\n",
    "with tf.compat.v1.Session() as sess:\n",
    "   sess.run(init_op)\n",
    "\n",
    "# Save the variables to disk.\n",
    "   save_path = saver.save(sess, \"hobby_logs/hobby.ckpt\")\n",
    "   print(\"Model saved in path: %s\" % save_path)"
   ]
  },
  {
   "cell_type": "code",
   "execution_count": null,
   "metadata": {},
   "outputs": [],
   "source": []
  },
  {
   "cell_type": "code",
   "execution_count": null,
   "metadata": {},
   "outputs": [],
   "source": []
  },
  {
   "cell_type": "code",
   "execution_count": 51,
   "metadata": {},
   "outputs": [],
   "source": [
    "hobby_log_dir = 'hobby_logs'\n",
    "\n",
    "if not os.path.exists(hobby_log_dir):\n",
    "    os.makedirs(hobby_log_dir)\n",
    "\n",
    "out_v_path = os.path.join(hobby_log_dir, 'vecs.tsv')\n",
    "out_m_path = os.path.join(hobby_log_dir, 'metadata.tsv')\n",
    "\n",
    "out_v = io.open(out_v_path, 'w', encoding='utf-8')\n",
    "out_m = io.open(out_m_path, 'w', encoding='utf-8')\n",
    "\n",
    "for word in hobbyModel.wv.vocab:\n",
    "    vec = hobbyModel.wv[word]\n",
    "    out_m.write(word + '\\n')\n",
    "    out_v.write('\\t'.join([str(x) for x in vec]) + '\\n')\n",
    "    \n",
    "out_v.close()\n",
    "out_m.close()        "
   ]
  },
  {
   "cell_type": "code",
   "execution_count": 52,
   "metadata": {},
   "outputs": [],
   "source": [
    "config = projector.ProjectorConfig()\n",
    "embedding = config.embeddings.add()\n",
    "\n",
    "embedding.tensor_name = 'hobbymodel/.ATTRIBUTES/VARIABLE_VALUE'\n",
    "embedding.metadata_path = 'metadata.tsv'\n",
    "\n",
    "projector.visualize_embeddings(hobby_log_dir, config)"
   ]
  },
  {
   "cell_type": "code",
   "execution_count": 53,
   "metadata": {},
   "outputs": [
    {
     "name": "stdout",
     "output_type": "stream",
     "text": [
      "The tensorboard extension is already loaded. To reload it, use:\n",
      "  %reload_ext tensorboard\n"
     ]
    }
   ],
   "source": [
    "%load_ext tensorboard"
   ]
  },
  {
   "cell_type": "code",
   "execution_count": 58,
   "metadata": {},
   "outputs": [
    {
     "data": {
      "text/plain": [
       "ERROR: Timed out waiting for TensorBoard to start. It may still be running as pid 7512."
      ]
     },
     "metadata": {},
     "output_type": "display_data"
    }
   ],
   "source": [
    "%tensorboard --logdir recommender_logs --host localhost"
   ]
  },
  {
   "cell_type": "code",
   "execution_count": null,
   "metadata": {},
   "outputs": [],
   "source": []
  },
  {
   "cell_type": "markdown",
   "metadata": {},
   "source": [
    "***\n",
    "### Processing amazon_au.tsv dataset to include a column with hobby keywords from Product Description"
   ]
  },
  {
   "cell_type": "code",
   "execution_count": 50,
   "metadata": {},
   "outputs": [],
   "source": [
    "data = pd.read_table('./amazon_au.tsv', usecols=['Product Name Source', 'Product Description'])"
   ]
  },
  {
   "cell_type": "code",
   "execution_count": 51,
   "metadata": {},
   "outputs": [],
   "source": [
    "product_description = [str(desc).lower().split() for desc in data['Product Description']]"
   ]
  },
  {
   "cell_type": "code",
   "execution_count": 52,
   "metadata": {},
   "outputs": [],
   "source": [
    "hobbyModel = Word2Vec.load('hobby.w2v')\n",
    "\n",
    "def optimize(frame):\n",
    "    sentence = str(frame['Product Description']).split()\n",
    "    keywords = ''\n",
    "    \n",
    "    for word in sentence:\n",
    "        if word in hobbyModel.wv.vocab:\n",
    "            sim_test = hobbyModel.wv.most_similar(positive=[word], topn=1)\n",
    "\n",
    "            if len(sim_test) > 0 and sim_test[0][1] > 0.1:\n",
    "                keywords += str(word) + ' '\n",
    "\n",
    "    frame['Keywords'] = keywords\n",
    "    \n",
    "    return frame"
   ]
  },
  {
   "cell_type": "code",
   "execution_count": 53,
   "metadata": {},
   "outputs": [],
   "source": [
    "new_data = data.apply(optimize, axis=1)"
   ]
  },
  {
   "cell_type": "code",
   "execution_count": 54,
   "metadata": {},
   "outputs": [],
   "source": [
    "new_data.to_csv('./product_hobby.csv', columns=['Product Name Source', 'Keywords'])"
   ]
  },
  {
   "cell_type": "code",
   "execution_count": null,
   "metadata": {},
   "outputs": [],
   "source": []
  },
  {
   "cell_type": "code",
   "execution_count": null,
   "metadata": {},
   "outputs": [],
   "source": []
  },
  {
   "cell_type": "code",
   "execution_count": null,
   "metadata": {},
   "outputs": [],
   "source": [
    "word2vecModel = Word2Vec(product_description, min_count=1, size=100)"
   ]
  },
  {
   "cell_type": "code",
   "execution_count": null,
   "metadata": {},
   "outputs": [],
   "source": [
    "word2vecModel.save('recommender.w2v')"
   ]
  },
  {
   "cell_type": "markdown",
   "metadata": {},
   "source": [
    "***"
   ]
  },
  {
   "cell_type": "code",
   "execution_count": 55,
   "metadata": {},
   "outputs": [],
   "source": [
    "word2vecModel = Word2Vec.load('recommender.w2v')"
   ]
  },
  {
   "cell_type": "code",
   "execution_count": 56,
   "metadata": {},
   "outputs": [],
   "source": [
    "recommender_log_dir = 'recommender_logs'\n",
    "\n",
    "if not os.path.exists(recommender_log_dir):\n",
    "    os.makedirs(recommender_log_dir)\n",
    "\n",
    "out_v_path = os.path.join(recommender_log_dir, 'vecs.tsv')\n",
    "out_m_path = os.path.join(recommender_log_dir, 'metadata.tsv')\n",
    "\n",
    "out_v = io.open(out_v_path, 'w', encoding='utf-8')\n",
    "out_m = io.open(out_m_path, 'w', encoding='utf-8')\n",
    "\n",
    "for word in word2vecModel.wv.vocab:\n",
    "    vec = word2vecModel.wv[word]\n",
    "    out_m.write(word + '\\n')\n",
    "    out_v.write('\\t'.join([str(x) for x in vec]) + '\\n')\n",
    "    \n",
    "out_v.close()\n",
    "out_m.close()        "
   ]
  },
  {
   "cell_type": "code",
   "execution_count": 64,
   "metadata": {},
   "outputs": [],
   "source": [
    "keywords = ['reading']\n",
    "\n",
    "def lookup(frame):\n",
    "        simi_score = 0\n",
    "        counter = 0\n",
    "\n",
    "        for word1 in keywords:\n",
    "            if word1 in word2vecModel.wv.vocab:\n",
    "                for word2 in str(frame['Keywords']).split(' '):\n",
    "                    if word2 in word2vecModel.wv.vocab:\n",
    "                        simi_score += word2vecModel.wv.similarity(word1, word2)\n",
    "                        counter += 1\n",
    "        \n",
    "        if counter > 0:\n",
    "            frame['Score'] = simi_score / counter\n",
    "        else:\n",
    "            frame['Score'] = 0\n",
    "\n",
    "        return frame"
   ]
  },
  {
   "cell_type": "code",
   "execution_count": 65,
   "metadata": {},
   "outputs": [],
   "source": [
    "products = pd.read_csv('./product_hobby.csv', usecols=['Product Name Source', 'Keywords'])"
   ]
  },
  {
   "cell_type": "code",
   "execution_count": 66,
   "metadata": {},
   "outputs": [],
   "source": [
    "new_products = products.apply(lookup, axis=1)"
   ]
  },
  {
   "cell_type": "code",
   "execution_count": 68,
   "metadata": {},
   "outputs": [],
   "source": [
    "new_products.dropna(inplace=True)"
   ]
  },
  {
   "cell_type": "code",
   "execution_count": 69,
   "metadata": {},
   "outputs": [
    {
     "data": {
      "text/html": [
       "<div>\n",
       "<style scoped>\n",
       "    .dataframe tbody tr th:only-of-type {\n",
       "        vertical-align: middle;\n",
       "    }\n",
       "\n",
       "    .dataframe tbody tr th {\n",
       "        vertical-align: top;\n",
       "    }\n",
       "\n",
       "    .dataframe thead th {\n",
       "        text-align: right;\n",
       "    }\n",
       "</style>\n",
       "<table border=\"1\" class=\"dataframe\">\n",
       "  <thead>\n",
       "    <tr style=\"text-align: right;\">\n",
       "      <th></th>\n",
       "      <th>Product Name Source</th>\n",
       "      <th>Keywords</th>\n",
       "      <th>Score</th>\n",
       "    </tr>\n",
       "  </thead>\n",
       "  <tbody>\n",
       "    <tr>\n",
       "      <th>7039</th>\n",
       "      <td>LXLIGHTS Headboard Bedside Cushion Waist Pad ...</td>\n",
       "      <td>reading</td>\n",
       "      <td>1.000000</td>\n",
       "    </tr>\n",
       "    <tr>\n",
       "      <th>2581</th>\n",
       "      <td>Bedside Back Cushion/Triangle Sofa Big Backre...</td>\n",
       "      <td>reading</td>\n",
       "      <td>1.000000</td>\n",
       "    </tr>\n",
       "    <tr>\n",
       "      <th>8208</th>\n",
       "      <td>RMJAI Solid Wood Shoe Bench Square Wood Suppo...</td>\n",
       "      <td>watching</td>\n",
       "      <td>0.789482</td>\n",
       "    </tr>\n",
       "    <tr>\n",
       "      <th>27422</th>\n",
       "      <td>YMM Industrial Bar Stool Kitchen Vintage Dini...</td>\n",
       "      <td>table reading</td>\n",
       "      <td>0.696118</td>\n",
       "    </tr>\n",
       "    <tr>\n",
       "      <th>9307</th>\n",
       "      <td>Warmies® Microwavable French Lavender Scented...</td>\n",
       "      <td>relaxing</td>\n",
       "      <td>0.636660</td>\n",
       "    </tr>\n",
       "  </tbody>\n",
       "</table>\n",
       "</div>"
      ],
      "text/plain": [
       "                                     Product Name Source        Keywords  \\\n",
       "7039    LXLIGHTS Headboard Bedside Cushion Waist Pad ...        reading    \n",
       "2581    Bedside Back Cushion/Triangle Sofa Big Backre...        reading    \n",
       "8208    RMJAI Solid Wood Shoe Bench Square Wood Suppo...       watching    \n",
       "27422   YMM Industrial Bar Stool Kitchen Vintage Dini...  table reading    \n",
       "9307    Warmies® Microwavable French Lavender Scented...       relaxing    \n",
       "\n",
       "          Score  \n",
       "7039   1.000000  \n",
       "2581   1.000000  \n",
       "8208   0.789482  \n",
       "27422  0.696118  \n",
       "9307   0.636660  "
      ]
     },
     "execution_count": 69,
     "metadata": {},
     "output_type": "execute_result"
    }
   ],
   "source": [
    "new_products.sort_values(by=['Score'], ascending=False).head()"
   ]
  },
  {
   "cell_type": "code",
   "execution_count": null,
   "metadata": {},
   "outputs": [],
   "source": []
  },
  {
   "cell_type": "code",
   "execution_count": null,
   "metadata": {},
   "outputs": [],
   "source": []
  },
  {
   "cell_type": "code",
   "execution_count": 6,
   "metadata": {},
   "outputs": [],
   "source": [
    "bot = ChatBot(\n",
    "    'Recommender',\n",
    "    storage_adapter='chatterbot.storage.SQLStorageAdapter',\n",
    "    database_uri='sqlite:///database.sqlite3.2',\n",
    "    logic_adapters=[\n",
    "        {'import_path':'HobbyLogic.HobbyLogic'},\n",
    "        'chatterbot.logic.BestMatch',\n",
    "        ]\n",
    ")"
   ]
  },
  {
   "cell_type": "code",
   "execution_count": 7,
   "metadata": {},
   "outputs": [],
   "source": [
    "trainer = ListTrainer(bot)"
   ]
  },
  {
   "cell_type": "code",
   "execution_count": 8,
   "metadata": {},
   "outputs": [
    {
     "name": "stdout",
     "output_type": "stream",
     "text": [
      "List Trainer: [####################] 100%\n"
     ]
    }
   ],
   "source": [
    "trainer.train([\n",
    "    'Hi', 'Hello', 'Hi! How are you?', 'Hello! How are you?', 'How are you?', 'I am fine. Thank you. How are you?', 'I am fine. Thank you.',\n",
    "    'Hello. What is your name?', 'Hi, What is your name?', 'What is your name?',\n",
    "    'Nice to meet you. I am ProductBot. I can recommend products for you if you tell me your hobby.',\n",
    "    'My name is ProductBot. I can recommend products for you if you tell me your hobby.',\n",
    "    'I can recommend products for you if you tell me your hobby.',\n",
    "    'What is your hobby?',\n",
    "    'My hobby is to ask about your hobby. Tell me about your hobby.'\n",
    "])"
   ]
  },
  {
   "cell_type": "code",
   "execution_count": 63,
   "metadata": {},
   "outputs": [
    {
     "name": "stdin",
     "output_type": "stream",
     "text": [
      "Enter Your Name:  Ishrak\n"
     ]
    },
    {
     "name": "stdout",
     "output_type": "stream",
     "text": [
      "Welcome to the recommender! Let me help you find the perfect product.\n"
     ]
    },
    {
     "name": "stdin",
     "output_type": "stream",
     "text": [
      "Ishrak: Hello\n"
     ]
    },
    {
     "name": "stdout",
     "output_type": "stream",
     "text": [
      "Bot: Hi! How are you?\n"
     ]
    },
    {
     "name": "stdin",
     "output_type": "stream",
     "text": [
      "Ishrak: I am fine. Thank you. How are you?\n"
     ]
    },
    {
     "name": "stdout",
     "output_type": "stream",
     "text": [
      "Bot: I am fine. Thank you.\n"
     ]
    },
    {
     "name": "stdin",
     "output_type": "stream",
     "text": [
      "Ishrak: What is your name?\n"
     ]
    },
    {
     "name": "stdout",
     "output_type": "stream",
     "text": [
      "Bot: Nice to meet you. I am ProductBot. I can recommend products for you if you tell me your hobby.\n"
     ]
    },
    {
     "name": "stdin",
     "output_type": "stream",
     "text": [
      "Ishrak: Nice to meet you. My hobby is reading\n"
     ]
    },
    {
     "name": "stdout",
     "output_type": "stream",
     "text": [
      "Bot: Based on your hobby, I am recommending the following products:\n",
      "1. (96.50378627702594) HEEPZZZ Memory Foam Travel Neck Pillow with Soft 4 Way Plush Cover - Supports Your Head & Chin While Sleeping on Airplane, Bus, Train or Car Travel - Includes Carry Bag Accessories - for Men & Women \n",
      "2. (35.31861296016723) ZXH77f Lazy Removable Bedside Table Laptop Table Desktop Bed with Simple Desk Simple Folding Small Table (Size : 50x70cm) \n",
      "3. (34.8835014840588) ZXH77f Bedside Edge Computer Desk Removable Laptop Desk Bedside Sofa Mobile Table Lazy Lift Bedside Study Table \n",
      "4. (33.849266801960766) ZXH77f Foldable Multi-Function Side Table, Nordic Small Apartment Creative Sofa Small Coffee Table (Color : Red) \n",
      "5. (31.04464272595942) ZXH77f Wall-Mounted Folding Table Dining Table Student Desk Study Table Wall Table Computer Desk Note Table (Size : 70cmx50cm) \n",
      "\n"
     ]
    },
    {
     "name": "stdin",
     "output_type": "stream",
     "text": [
      "Ishrak: Bye\n"
     ]
    },
    {
     "name": "stdout",
     "output_type": "stream",
     "text": [
      "Bot: Bye\n"
     ]
    }
   ],
   "source": [
    "name=input(\"Enter Your Name: \")\n",
    "print(\"Welcome to the recommender! Let me help you find the perfect product.\")\n",
    "while True:\n",
    "    request=input(name+':')\n",
    "    if request=='Bye' or request =='bye':\n",
    "        print('Bot: Bye')\n",
    "        break\n",
    "    else:\n",
    "        response=bot.get_response(request)\n",
    "        print('Bot:',response)"
   ]
  },
  {
   "cell_type": "code",
   "execution_count": null,
   "metadata": {},
   "outputs": [],
   "source": []
  },
  {
   "cell_type": "code",
   "execution_count": null,
   "metadata": {},
   "outputs": [],
   "source": []
  },
  {
   "cell_type": "markdown",
   "metadata": {},
   "source": [
    "***\n",
    "## References\n",
    "\n",
    "1. https://www.kaggle.com/muhadel/hobbies\n",
    "2. https://data.world/promptcloud/amazon-australia-product-listing\n",
    "3. https://chatterbot.readthedocs.io/en/latest/conversations.html\n",
    "4. https://www.datacamp.com/community/tutorials/building-a-chatbot-using-chatterbot\n",
    "5. https://radimrehurek.com/gensim/auto_examples/tutorials/run_word2vec.html\n",
    "6. https://www.javaer101.com/en/article/985198.html\n",
    "7. https://www.tensorflow.org/tensorboard/tensorboard_projector_plugin\n",
    "8. https://projector.tensorflow.org/"
   ]
  }
 ],
 "metadata": {
  "kernelspec": {
   "display_name": "Python 3",
   "language": "python",
   "name": "python3"
  },
  "language_info": {
   "codemirror_mode": {
    "name": "ipython",
    "version": 3
   },
   "file_extension": ".py",
   "mimetype": "text/x-python",
   "name": "python",
   "nbconvert_exporter": "python",
   "pygments_lexer": "ipython3",
   "version": "3.7.6"
  }
 },
 "nbformat": 4,
 "nbformat_minor": 4
}
